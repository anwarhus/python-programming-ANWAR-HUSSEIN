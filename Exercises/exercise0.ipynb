{
 "cells": [
  {
   "cell_type": "code",
   "execution_count": 4,
   "metadata": {},
   "outputs": [],
   "source": [
    "import math"
   ]
  },
  {
   "cell_type": "markdown",
   "metadata": {},
   "source": [
    "1a)"
   ]
  },
  {
   "cell_type": "code",
   "execution_count": 5,
   "metadata": {},
   "outputs": [
    {
     "name": "stdout",
     "output_type": "stream",
     "text": [
      "The hypothenuse is 5.0 length units\n"
     ]
    }
   ],
   "source": [
    "a = 3\n",
    "b = 4\n",
    "c = math.sqrt(a**2 + b**2)\n",
    "print(f\"The hypothenuse is {c} length units\")\n"
   ]
  },
  {
   "cell_type": "markdown",
   "metadata": {},
   "source": [
    "1b)"
   ]
  },
  {
   "cell_type": "code",
   "execution_count": 6,
   "metadata": {},
   "outputs": [
    {
     "name": "stdout",
     "output_type": "stream",
     "text": [
      "The other cathetus is 4.9 length units\n"
     ]
    }
   ],
   "source": [
    "c = 7.0\n",
    "a = 5.0\n",
    "b = math.sqrt(c**2 - a**2)\n",
    "print(f\"The other cathetus is {round(b, 1)} length units\")\n"
   ]
  },
  {
   "cell_type": "markdown",
   "metadata": {},
   "source": [
    "2. Classification accuracy"
   ]
  },
  {
   "cell_type": "code",
   "execution_count": 7,
   "metadata": {},
   "outputs": [
    {
     "name": "stdout",
     "output_type": "stream",
     "text": [
      "The accuracy of the model is 82.1917808219178%\n"
     ]
    }
   ],
   "source": [
    "total_predictions = 365\n",
    "correct_predictions = 300\n",
    "accuracy = (correct_predictions / total_predictions) * 100\n",
    "print(f\"The accuracy of the model is {accuracy}%\")\n"
   ]
  },
  {
   "cell_type": "markdown",
   "metadata": {},
   "source": [
    "3. Classification accuracy"
   ]
  },
  {
   "cell_type": "code",
   "execution_count": 8,
   "metadata": {},
   "outputs": [
    {
     "name": "stdout",
     "output_type": "stream",
     "text": [
      "The accuracy of this model is 0.987.\n"
     ]
    }
   ],
   "source": [
    "TP = 2\n",
    "FP = 2\n",
    "FN = 11\n",
    "TN = 985\n",
    "total = TP + FP + FN + TN\n",
    "accuracy = (TP + TN) / total\n",
    "print(f\"The accuracy of this model is {accuracy:.3f}.\")\n"
   ]
  },
  {
   "cell_type": "markdown",
   "metadata": {},
   "source": [
    "4. Line"
   ]
  },
  {
   "cell_type": "code",
   "execution_count": 13,
   "metadata": {},
   "outputs": [
    {
     "name": "stdout",
     "output_type": "stream",
     "text": [
      "The slope k is: 0.75\n",
      "The y-intercept m is: 1.0\n",
      "The equation of the line is: y = 0.75x + 1.0\n"
     ]
    }
   ],
   "source": [
    "A = (4,4)\n",
    "B = (0,1)\n",
    "\n",
    "k = (B[1] - A[1]) / (B[0] - A[0])\n",
    "\n",
    "m = A[1] - k * A[0]\n",
    "\n",
    "print(f\"The slope k is: {k}\")\n",
    "print(f\"The y-intercept m is: {m}\")\n",
    "\n",
    "print(f\"The equation of the line is: y = {k}x + {m}\")"
   ]
  },
  {
   "cell_type": "markdown",
   "metadata": {},
   "source": [
    "5. Euclidean distanc"
   ]
  },
  {
   "cell_type": "code",
   "execution_count": 10,
   "metadata": {},
   "outputs": [
    {
     "name": "stdout",
     "output_type": "stream",
     "text": [
      "The distance is around 5.1 length units.\n"
     ]
    }
   ],
   "source": [
    "x1, y1 = (3,5)\n",
    "x2, y2 = (-2,4)\n",
    "\n",
    "distance = math.sqrt((x2 - x1)**2 + (y2 - y1)**2)\n",
    "print(f\"The distance is around {round(distance, 1)} length units.\")\n"
   ]
  },
  {
   "cell_type": "markdown",
   "metadata": {},
   "source": [
    "6. Euclidean distance in 3D"
   ]
  },
  {
   "cell_type": "code",
   "execution_count": 11,
   "metadata": {},
   "outputs": [
    {
     "name": "stdout",
     "output_type": "stream",
     "text": [
      "The distance is around 4.12 l.u.\n"
     ]
    }
   ],
   "source": [
    "x1, y1, z1 = (2,1,4)\n",
    "x2, y2, z2 = (3,1,0)\n",
    "\n",
    "distance = math.sqrt((x2 - x1)**2 + (y2 - y1)**2 + (z2 - z1)**2)\n",
    "print(f\"The distance is around {round(distance, 2)} l.u.\")\n"
   ]
  }
 ],
 "metadata": {
  "kernelspec": {
   "display_name": "Python 3",
   "language": "python",
   "name": "python3"
  },
  "language_info": {
   "codemirror_mode": {
    "name": "ipython",
    "version": 3
   },
   "file_extension": ".py",
   "mimetype": "text/x-python",
   "name": "python",
   "nbconvert_exporter": "python",
   "pygments_lexer": "ipython3",
   "version": "3.11.0"
  },
  "orig_nbformat": 4
 },
 "nbformat": 4,
 "nbformat_minor": 2
}
